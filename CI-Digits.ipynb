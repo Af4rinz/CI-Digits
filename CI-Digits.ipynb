{
 "cells": [
  {
   "cell_type": "markdown",
   "metadata": {},
   "source": [
    "# Digit Recgnition\n",
    "\n",
    "This notebook demonstrates use of MLP and K-means algorithm to recognise digits of the MNIST dataset."
   ]
  },
  {
   "cell_type": "markdown",
   "metadata": {},
   "source": [
    "## 1.1. Simple K-means\n",
    "Import training data from local storage:"
   ]
  },
  {
   "cell_type": "code",
   "execution_count": 1,
   "metadata": {},
   "outputs": [
    {
     "name": "stdout",
     "output_type": "stream",
     "text": [
      "(60000,)\n",
      "(60000, 28, 28)\n",
      "(10000,)\n",
      "(10000, 28, 28)\n"
     ]
    }
   ],
   "source": [
    "import struct\n",
    "import numpy as np\n",
    "\n",
    "def loadMNIST( prefix, folder ):\n",
    "    intType = np.dtype('int32').newbyteorder( '>' )\n",
    "    nMetaDataBytes = 4 * intType.itemsize\n",
    "\n",
    "    data = np.fromfile( folder + \"/\" + prefix + '-images.idx3-ubyte', dtype = 'ubyte' )\n",
    "    magicBytes, nImages, width, height = np.frombuffer( data[:nMetaDataBytes].tobytes(), intType )\n",
    "    data = data[nMetaDataBytes:].astype( dtype = 'float32' ).reshape( [ nImages, width, height ] )\n",
    "\n",
    "    _labels = np.fromfile( folder + \"/\" + prefix + '-labels.idx1-ubyte',\n",
    "                          dtype = 'ubyte' )[2 * intType.itemsize:]\n",
    "    print(_labels.shape)\n",
    "    print(data.shape)\n",
    "    return data, _labels\n",
    "\n",
    "data, labels = loadMNIST( \"train\", \"train\" )\n",
    "test_data, test_labels = loadMNIST( \"t10k\", \"test\" )"
   ]
  },
  {
   "cell_type": "markdown",
   "metadata": {},
   "source": [
    "Then we convert the labels to One-Hot Encoding, where it simulates the output of an MLP's last layer."
   ]
  },
  {
   "cell_type": "code",
   "execution_count": 2,
   "metadata": {
    "slideshow": {
     "slide_type": "skip"
    }
   },
   "outputs": [],
   "source": [
    "def toHotEncoding( classification ):\n",
    "    \n",
    "    hotEncoding = np.zeros( [ len( classification ), \n",
    "                              np.max( classification ) + 1 ] )\n",
    "    hotEncoding[ np.arange( len( hotEncoding ) ), classification ] = 1\n",
    "    return hotEncoding\n",
    "\n",
    "hlabels = toHotEncoding( labels )\n",
    "htest_labels = toHotEncoding( test_labels )"
   ]
  },
  {
   "cell_type": "markdown",
   "metadata": {},
   "source": [
    "To check the import process, we can plot 9 sample datapoints using matplotlib, and print their labels."
   ]
  },
  {
   "cell_type": "code",
   "execution_count": 5,
   "metadata": {},
   "outputs": [
    {
     "data": {
      "image/png": "[encoded data removed]",
      "text/plain": [
       "<Figure size 720x720 with 16 Axes>"
      ]
     },
     "metadata": {
      "needs_background": "light"
     },
     "output_type": "display_data"
    }
   ],
   "source": [
    "import matplotlib.pyplot as plt\n",
    "plt.figure(figsize = (10,10))\n",
    "\n",
    "for i in range(16):\n",
    "    plt.subplots_adjust(0.3)\n",
    "    plt.subplot(4,4,i+1)\n",
    "    plt.title(labels[i],fontsize = 17)\n",
    "    plt.imshow(data[i])"
   ]
  },
  {
   "cell_type": "markdown",
   "metadata": {},
   "source": [
    "Converting the data to float will allow for normalization, i.e. setting minimum to 0 and maximum value to 1."
   ]
  },
  {
   "cell_type": "code",
   "execution_count": 6,
   "metadata": {},
   "outputs": [],
   "source": [
    "data = data.astype('float32') \n",
    "test_data = test_data.astype('float32')\n",
    "\n",
    "data = data/255.0\n",
    "test_data = test_data/255.0"
   ]
  },
  {
   "cell_type": "markdown",
   "metadata": {},
   "source": [
    "We need to reshape the data from 3 dimensions to two. Afterwards, instead of 28x28 images, we will have all data in one 784 array."
   ]
  },
  {
   "cell_type": "code",
   "execution_count": 7,
   "metadata": {},
   "outputs": [],
   "source": [
    "Data = data.reshape(len(data),-1)\n",
    "Test_data = test_data.reshape(len(test_data),-1)"
   ]
  },
  {
   "cell_type": "code",
   "execution_count": 6,
   "metadata": {},
   "outputs": [
    {
     "data": {
      "text/plain": [
       "MiniBatchKMeans(batch_size=100, compute_labels=True, init='k-means++',\n",
       "        init_size=None, max_iter=100, max_no_improvement=10, n_clusters=10,\n",
       "        n_init=3, random_state=None, reassignment_ratio=0.01, tol=0.0,\n",
       "        verbose=0)"
      ]
     },
     "execution_count": 6,
     "metadata": {},
     "output_type": "execute_result"
    }
   ],
   "source": [
    "from sklearn.cluster import MiniBatchKMeans\n",
    "k_value = len(np.unique(labels))\n",
    "kmeans = MiniBatchKMeans(n_clusters = k_value)\n",
    "kmeans.fit(Data)"
   ]
  },
  {
   "cell_type": "markdown",
   "metadata": {},
   "source": [
    "A function to label clusters based on their most frquent digit (the default labels that `kmeans.labels_` gives is just a number depending on the method and does not represent the actual data.\n",
    "\n",
    "Note that with 10 clusters, some digits may not even be assigned a cluster. This will be discussed in next section."
   ]
  },
  {
   "cell_type": "code",
   "execution_count": 31,
   "metadata": {},
   "outputs": [],
   "source": [
    "def retrieve_labels(cluster_labels,labels):\n",
    "    ref_labels = {}\n",
    "    for i in range(len(np.unique(kmeans.labels_))):\n",
    "        idx = np.where(cluster_labels == i,1,0)\n",
    "        num = np.bincount(labels[idx==1]).argmax()\n",
    "        ref_labels[i] = num\n",
    "    print(ref_labels)\n",
    "    return ref_labels"
   ]
  },
  {
   "cell_type": "code",
   "execution_count": 32,
   "metadata": {},
   "outputs": [
    {
     "name": "stdout",
     "output_type": "stream",
     "text": [
      "{0: 8, 1: 6, 2: 0, 3: 6, 4: 1, 5: 7, 6: 3, 7: 4, 8: 7, 9: 2}\n"
     ]
    }
   ],
   "source": [
    "ref_labels = retrieve_labels(kmeans.labels_,labels)\n",
    "number_labels = np.zeros(len(kmeans.labels_))\n",
    "for i in range(len(kmeans.labels_)):\n",
    "    number_labels[i] = ref_labels[kmeans.labels_[i]]"
   ]
  },
  {
   "cell_type": "code",
   "execution_count": 33,
   "metadata": {},
   "outputs": [
    {
     "name": "stdout",
     "output_type": "stream",
     "text": [
      "predicted labels:\t [8 0 4 1 7 2 1 8 1 7 3 1 3 6 1 7]\n",
      "true labels:\t\t [5 0 4 1 9 2 1 3 1 4 3 5 3 6 1 7]\n",
      "---------------------------------------------------\n",
      "Accuracy: 0.5853666666666667\n"
     ]
    }
   ],
   "source": [
    "from sklearn.metrics import accuracy_score\n",
    "print(\"predicted labels:\\t\", number_labels[:16].astype('int'))\n",
    "print(\"true labels:\\t\\t\",labels[:16])\n",
    "print('---------------------------------------------------')\n",
    "print(\"Accuracy:\" , accuracy_score(number_labels,labels))"
   ]
  },
  {
   "cell_type": "markdown",
   "metadata": {},
   "source": [
    "## 1.2. K-Means Optimisation\n",
    "\n",
    "The basic form of K-means gives us a mediocre accuracy of ~0.54, to improve, we attempt to see the performance for various values of `k > 10`. In this way, digits of the same label but with differing properties may be clustered better if allowed to 'split'.\n",
    "\n",
    "To compare, we need new metrics: _inertia_ and _homogeneity_. \n",
    "Inertia computes the coherency of the clusters, inversely porportional to the sum of squares of the distances from their centroids. This means the larger `k` gives smaller inertia, since clusters reduce in size. Homogeneity is how likely is that points belong to a single cluster (if we assume there's a likelihood points can belong to more than one cluster). \n",
    "Rand Index is also computed, but as the cluster number increases, it means that False Negatives increase, and hence is not a good performance measure.\n",
    "Lastly, accuracy score is computed, which we observe to increase with the value of `k`."
   ]
  },
  {
   "cell_type": "code",
   "execution_count": 29,
   "metadata": {},
   "outputs": [],
   "source": [
    "from sklearn import metrics\n",
    "\n",
    "def get_metrics(model,output):\n",
    "    print('Number of clusters: {}'.format(model.n_clusters))\n",
    "    print('Inertia : {:.2f}'.format(model.inertia_))\n",
    "    print('Homogeneity : {:.5f}'.format(metrics.homogeneity_score(output, model.labels_)))\n",
    "    print('Rand Index: {:.5f}'.format(metrics.adjusted_rand_score(output, model.labels_)))\n",
    "    print('NMI: {:.5f}'.format(metrics.v_measure_score(output, model.labels_)))"
   ]
  },
  {
   "cell_type": "markdown",
   "metadata": {},
   "source": [
    "The following results for various values of `k` show that up to some point, a higher `k` gives more desirable output with higher accuracy, even though Rand Index is reduced. However, note that accuracy always grows, hence we use NMI (`v_measure_score`) to take the number of clusters into account, as well. This gives us the most desirable point in `k` = 32."
   ]
  },
  {
   "cell_type": "code",
   "execution_count": 33,
   "metadata": {},
   "outputs": [
    {
     "name": "stdout",
     "output_type": "stream",
     "text": [
      "Number of clusters: 10\n",
      "Inertia : 2440656.50\n",
      "Homogeneity : 0.41852\n",
      "Rand Index: 0.29734\n",
      "NMI: 0.42761\n",
      "Accuracy (Purity): 0.51528\n",
      "------------------------\n",
      "\n",
      "Number of clusters: 16\n",
      "Inertia : 2218428.50\n",
      "Homogeneity : 0.56846\n",
      "Rand Index: 0.36605\n",
      "NMI: 0.52084\n",
      "Accuracy (Purity): 0.68178\n",
      "------------------------\n",
      "\n",
      "Number of clusters: 32\n",
      "Inertia : 2097759.00\n",
      "Homogeneity : 0.63157\n",
      "Rand Index: 0.30305\n",
      "NMI: 0.51656\n",
      "Accuracy (Purity): 0.71708\n",
      "------------------------\n",
      "\n",
      "Number of clusters: 64\n",
      "Inertia : 1812878.12\n",
      "Homogeneity : 0.73931\n",
      "Rand Index: 0.19337\n",
      "NMI: 0.53150\n",
      "Accuracy (Purity): 0.80803\n",
      "------------------------\n",
      "\n",
      "Number of clusters: 128\n",
      "Inertia : 1656539.38\n",
      "Homogeneity : 0.79835\n",
      "Rand Index: 0.11552\n",
      "NMI: 0.51956\n",
      "Accuracy (Purity): 0.86767\n",
      "------------------------\n",
      "\n",
      "Number of clusters: 256\n",
      "Inertia : 1514567.50\n",
      "Homogeneity : 0.84159\n",
      "Rand Index: 0.06418\n",
      "NMI: 0.49845\n",
      "Accuracy (Purity): 0.89863\n",
      "------------------------\n",
      "\n"
     ]
    }
   ],
   "source": [
    "k_values = [10, 16, 32, 64, 128, 256]\n",
    "for k in k_values:\n",
    "    true_clusters = len(np.unique(test_labels))\n",
    "    kmeans = MiniBatchKMeans(n_clusters = k)\n",
    "    kmeans.fit(Data)\n",
    "    get_metrics(kmeans, labels)\n",
    "    ref_labels = retrieve_labels(kmeans.labels_,labels)\n",
    "    number_labels = np.random.rand(len(kmeans.labels_))\n",
    "    for i in range(len(kmeans.labels_)):\n",
    "         number_labels[i] = ref_labels[kmeans.labels_[i]]\n",
    "    print('Accuracy (Purity): {:.5f}'.format(metrics.accuracy_score(number_labels,labels)))\n",
    "    print(\"------------------------\\n\")\n"
   ]
  },
  {
   "cell_type": "markdown",
   "metadata": {},
   "source": [
    "To test the results, we will now fit the model for the test data, and compare its accuracy with the one given above. This gives us an accuracy score is quite close to the training accuracy, hence the model has not been overfitted."
   ]
  },
  {
   "cell_type": "code",
   "execution_count": 37,
   "metadata": {},
   "outputs": [
    {
     "name": "stdout",
     "output_type": "stream",
     "text": [
      "Number of clusters: 64\n",
      "Inertia : 298502.41\n",
      "Homogeneity : 0.75818\n",
      "Rand Index: 0.20408\n",
      "NMI: 0.54903\n",
      "Accuracy: 0.82990\n"
     ]
    }
   ],
   "source": [
    "k_value = 64\n",
    "kmeans = MiniBatchKMeans(n_clusters = k_value)\n",
    "kmeans.fit(Test_data)\n",
    "get_metrics(kmeans, test_labels)\n",
    "ref_labels = retrieve_labels(kmeans.labels_,test_labels)\n",
    "number_labels = np.random.rand(len(kmeans.labels_))\n",
    "for i in range(len(kmeans.labels_)):\n",
    "     number_labels[i] = ref_labels[kmeans.labels_[i]]\n",
    "print('Accuracy: {:.5f}'.format(metrics.accuracy_score(number_labels,test_labels)))"
   ]
  },
  {
   "cell_type": "markdown",
   "metadata": {},
   "source": [
    "Now that we have an optimal `k` value, we can tweak the other parts of the algorithm."
   ]
  },
  {
   "cell_type": "code",
   "execution_count": 59,
   "metadata": {},
   "outputs": [
    {
     "name": "stdout",
     "output_type": "stream",
     "text": [
      "Number of initialisations tried: 1\n",
      "Number of clusters: 64\n",
      "Inertia : 27.98\n",
      "Homogeneity : 0.73178\n",
      "Rand Index: 0.18580\n",
      "NMI: 0.52595\n",
      "Accuracy (Purity): 0.80595\n",
      "------------------------\n",
      "\n",
      "Number of initialisations tried: 3\n",
      "Number of clusters: 64\n",
      "Inertia : 27.98\n",
      "Homogeneity : 0.74871\n",
      "Rand Index: 0.20724\n",
      "NMI: 0.54143\n",
      "Accuracy (Purity): 0.82777\n",
      "------------------------\n",
      "\n",
      "Number of initialisations tried: 5\n",
      "Number of clusters: 64\n",
      "Inertia : 27.88\n",
      "Homogeneity : 0.74995\n",
      "Rand Index: 0.19488\n",
      "NMI: 0.54060\n",
      "Accuracy (Purity): 0.82633\n",
      "------------------------\n",
      "\n",
      "Number of initialisations tried: 10\n",
      "Number of clusters: 64\n",
      "Inertia : 27.90\n",
      "Homogeneity : 0.74425\n",
      "Rand Index: 0.19054\n",
      "NMI: 0.53590\n",
      "Accuracy (Purity): 0.81940\n",
      "------------------------\n",
      "\n"
     ]
    }
   ],
   "source": [
    "k_value = 64\n",
    "init_values = [1, 3, 5, 10]\n",
    "for n in init_values:\n",
    "    kmeans = MiniBatchKMeans(n_clusters = k_value, n_init = n)\n",
    "    kmeans.fit(Data)\n",
    "    print('Number of initialisations tried: {}'.format(n))\n",
    "    get_metrics(kmeans, labels)\n",
    "    ref_labels = retrieve_labels(kmeans.labels_,labels)\n",
    "    number_labels = np.random.rand(len(kmeans.labels_))\n",
    "    for i in range(len(kmeans.labels_)):\n",
    "         number_labels[i] = ref_labels[kmeans.labels_[i]]\n",
    "    print('Accuracy (Purity): {:.5f}'.format(metrics.accuracy_score(number_labels,labels)))\n",
    "    print(\"------------------------\\n\")"
   ]
  },
  {
   "cell_type": "markdown",
   "metadata": {},
   "source": [
    "Visualising this with an estimate of centroids on a 28×28 image will be useful to see the reason in the efficiency of using a larger `k` .\n",
    "As seen in the results, same labels are associated with various styles of the same digit."
   ]
  },
  {
   "cell_type": "code",
   "execution_count": 39,
   "metadata": {},
   "outputs": [
    {
     "data": {
      "image/png": "[encoded data removed]",
      "text/plain": [
       "<Figure size 720x720 with 25 Axes>"
      ]
     },
     "metadata": {
      "needs_background": "light"
     },
     "output_type": "display_data"
    }
   ],
   "source": [
    "centroids = kmeans.cluster_centers_\n",
    "centroids = centroids.reshape(k_value,28,28)\n",
    "# eliminate normalisation done earlier\n",
    "centroids = centroids * k_value\n",
    "\n",
    "plt.figure(figsize = (10,10))\n",
    "bottom = 0.25\n",
    "\n",
    "for i in range(25):\n",
    "    plt.subplots_adjust(bottom)\n",
    "    plt.subplot(5,5,i+1)\n",
    "    plt.title(ref_labels[i],fontsize = 17)\n",
    "    plt.imshow(centroids[i])"
   ]
  },
  {
   "cell_type": "code",
   "execution_count": 11,
   "metadata": {},
   "outputs": [
    {
     "name": "stdout",
     "output_type": "stream",
     "text": [
      "Iteration 1, loss = 0.85659529\n",
      "Iteration 2, loss = 0.33347438\n",
      "Iteration 3, loss = 0.26197039\n",
      "Iteration 4, loss = 0.22346459\n",
      "Iteration 5, loss = 0.19598134\n",
      "Iteration 6, loss = 0.17465862\n",
      "Iteration 7, loss = 0.15745660\n",
      "Iteration 8, loss = 0.14295617\n",
      "Iteration 9, loss = 0.13047510\n",
      "Iteration 10, loss = 0.12025558\n",
      "Iteration 11, loss = 0.11074744\n",
      "Iteration 12, loss = 0.10235792\n",
      "Iteration 13, loss = 0.09519932\n",
      "Iteration 14, loss = 0.08838951\n",
      "Iteration 15, loss = 0.08214042\n",
      "Iteration 16, loss = 0.07662933\n",
      "Iteration 17, loss = 0.07154167\n",
      "Iteration 18, loss = 0.06694167\n",
      "Iteration 19, loss = 0.06263163\n",
      "Iteration 20, loss = 0.05849437\n",
      "Iteration 21, loss = 0.05503837\n",
      "Iteration 22, loss = 0.05151582\n",
      "Iteration 23, loss = 0.04843155\n",
      "Iteration 24, loss = 0.04531555\n",
      "Iteration 25, loss = 0.04255455\n",
      "Iteration 26, loss = 0.04002203\n",
      "Iteration 27, loss = 0.03774678\n"
     ]
    },
    {
     "name": "stderr",
     "output_type": "stream",
     "text": [
      "C:\\ProgramData\\Anaconda3\\lib\\site-packages\\sklearn\\neural_network\\multilayer_perceptron.py:564: UserWarning: Training interrupted by user.\n",
      "  warnings.warn(\"Training interrupted by user.\")\n"
     ]
    },
    {
     "name": "stdout",
     "output_type": "stream",
     "text": [
      "Training Accuracy: 0.99405\n",
      "Test Accuracy: 0.97620\n"
     ]
    }
   ],
   "source": [
    "from sklearn import neural_network as nn\n",
    "from sklearn import metrics\n",
    "\n",
    "mlp = nn.MLPClassifier(activation='logistic', learning_rate_init=0.001, verbose=True)\n",
    "mlp.fit(Data, labels)\n",
    "training_accuracy = metrics.accuracy_score(labels, mlp.predict(Data))\n",
    "test_accuracy = metrics.accuracy_score(test_labels, mlp.predict(Test_data))\n",
    "print(\"Training Accuracy: {:.5f}\".format(training_accuracy))\n",
    "print(\"Test Accuracy: {:.5f}\".format(test_accuracy))"
   ]
  }
 ],
 "metadata": {
  "kernelspec": {
   "display_name": "Python 3",
   "language": "python",
   "name": "python3"
  },
  "language_info": {
   "codemirror_mode": {
    "name": "ipython",
    "version": 3
   },
   "file_extension": ".py",
   "mimetype": "text/x-python",
   "name": "python",
   "nbconvert_exporter": "python",
   "pygments_lexer": "ipython3",
   "version": "3.7.1"
  }
 },
 "nbformat": 4,
 "nbformat_minor": 2
}
